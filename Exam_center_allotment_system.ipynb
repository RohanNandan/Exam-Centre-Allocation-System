{
  "cells": [
    {
      "cell_type": "code",
      "execution_count": null,
      "metadata": {
        "colab": {
          "base_uri": "https://localhost:8080/",
          "height": 328
        },
        "id": "W95z8pv3jiLp",
        "outputId": "6831c08b-7c1a-4e10-f439-be5b03fc06dc"
      },
      "outputs": [],
      "source": [
        "import pandas as pd\n",
        "df = pd.read_csv('/content/drive/MyDrive/Exam Data Base.csv')"
      ]
    },
    {
      "cell_type": "code",
      "execution_count": 3,
      "metadata": {
        "colab": {
          "base_uri": "https://localhost:8080/"
        },
        "id": "8dYhs44lAPhB",
        "outputId": "3e62a2c5-ab85-466b-fc87-47929cbc5abe"
      },
      "outputs": [
        {
          "name": "stdout",
          "output_type": "stream",
          "text": [
            "Mounted at /content/drive\n"
          ]
        }
      ],
      "source": [
        "from google.colab import drive\n",
        "drive.mount('/content/drive')"
      ]
    },
    {
      "cell_type": "code",
      "execution_count": null,
      "metadata": {
        "id": "VSV_XZMcjqYX"
      },
      "outputs": [],
      "source": [
        "from csv import reader\n",
        "with open('/content/drive/MyDrive/Exam.csv', 'r') as read_obj:\n",
        "    csv_reader = reader(read_obj)\n",
        "    dataset=[]\n",
        "    for row in csv_reader:\n",
        "        dataset.append(row)\n",
        "    print(dataset)"
      ]
    },
    {
      "cell_type": "code",
      "execution_count": null,
      "metadata": {
        "id": "FmgcgPZ3j0ka"
      },
      "outputs": [],
      "source": [
        "from csv import reader\n",
        "with open('/content/drive/MyDrive/student.csv', 'r') as read_obj:\n",
        "    csv_reader = reader(read_obj)\n",
        "    dataset1=[]\n",
        "    for row in csv_reader:\n",
        "        dataset1.append(row)\n",
        "    print(dataset1)"
      ]
    },
    {
      "cell_type": "code",
      "execution_count": null,
      "metadata": {
        "id": "BiF7uJ9pj4_V"
      },
      "outputs": [],
      "source": [
        "address = df.Address.to_list()\n",
        "#address"
      ]
    },
    {
      "cell_type": "code",
      "execution_count": null,
      "metadata": {
        "id": "nfBmc1yQj6qY"
      },
      "outputs": [],
      "source": [
        "cnt = df.Ct.to_list()\n",
        "#cnt"
      ]
    },
    {
      "cell_type": "code",
      "execution_count": null,
      "metadata": {
        "id": "lbE2ta70j8Ns"
      },
      "outputs": [],
      "source": [
        "countlist=[]\n",
        "for i in range(0,len(cnt)):\n",
        "  countlist.append([address[i],int(cnt[i])])\n",
        "print(countlist)"
      ]
    },
    {
      "cell_type": "code",
      "execution_count": null,
      "metadata": {
        "id": "xVlkgNAqj-Ap"
      },
      "outputs": [],
      "source": [
        "df2 = pd.read_csv('/content/drive/MyDrive/Student_final.csv')\n",
        "stulon = df2.rohan.to_list()\n",
        "#stulon"
      ]
    },
    {
      "cell_type": "code",
      "execution_count": null,
      "metadata": {
        "id": "78A7Wo_RkAKh"
      },
      "outputs": [],
      "source": [
        "allotment = df2.Allotment.to_list()\n",
        "#allotment"
      ]
    },
    {
      "cell_type": "code",
      "execution_count": null,
      "metadata": {
        "id": "0lnrYw9NkCFJ"
      },
      "outputs": [],
      "source": [
        "stulat = df2.Latitude.to_list()\n",
        "#stulat"
      ]
    },
    {
      "cell_type": "code",
      "execution_count": null,
      "metadata": {
        "id": "MGpVDXxAkD-t"
      },
      "outputs": [],
      "source": [
        "stu = df2.Address.to_list()\n",
        "#stu"
      ]
    },
    {
      "cell_type": "code",
      "execution_count": null,
      "metadata": {
        "id": "KkrPQdxTkFtj"
      },
      "outputs": [],
      "source": [
        "cenlat = df.Latitude.to_list()\n",
        "#cenlat"
      ]
    },
    {
      "cell_type": "code",
      "execution_count": null,
      "metadata": {
        "id": "V_pmoJ5EkHRz"
      },
      "outputs": [],
      "source": [
        "cenlon = df.Longitude.to_list()\n",
        "#cenlon"
      ]
    },
    {
      "cell_type": "code",
      "execution_count": null,
      "metadata": {
        "id": "_Zrun5erkIxA"
      },
      "outputs": [],
      "source": [
        "from geopy.distance import geodesic\n",
        "l=[]\n",
        "for i in dataset1:\n",
        "  student = (float(i[2]),float(i[3]))\n",
        "\n",
        "  x=[]\n",
        "  for j in dataset:\n",
        "    centre = (float(j[2]),float(j[3]))\n",
        "\n",
        "    x.append([j[1],geodesic(student, centre).km,j[5]])\n",
        "\n",
        "    \n",
        "  l.append(x)\n",
        "\n",
        "print(l)\n",
        "print(len(l))"
      ]
    },
    {
      "cell_type": "code",
      "execution_count": null,
      "metadata": {
        "id": "Ku7oV_5ekLZ-"
      },
      "outputs": [],
      "source": [
        "#from pprint import pprint\n",
        "def Sort1(sub_li):\n",
        "    l = len(sub_li)\n",
        "    for i in range(0, l):\n",
        "        for j in range(0, l-i-1):\n",
        "            if (sub_li[j][1] > sub_li[j + 1][1]):\n",
        "                tempo = sub_li[j]\n",
        "                sub_li[j]= sub_li[j + 1]\n",
        "                sub_li[j + 1]= tempo\n",
        "    return sub_li\n",
        "  \n",
        "# Driver Code\n",
        "sor = []\n",
        "for i in l:\n",
        "  sub_li = i\n",
        "  x = Sort1(sub_li)\n",
        "  sor.append(x)\n",
        "print(sor)\n",
        "\n",
        "    "
      ]
    },
    {
      "cell_type": "code",
      "execution_count": null,
      "metadata": {
        "id": "JbCPmSM-kOrM"
      },
      "outputs": [],
      "source": [
        "allot=[]\n",
        "n=1\n",
        "for i in l:\n",
        "  for j in i:\n",
        "    for k in countlist:\n",
        "      if j[0]==k[0]:\n",
        "        if k[1]!=0:\n",
        "          k[1]=k[1]-1\n",
        "          allot.append([n,j[0]])\n",
        "        else:\n",
        "          pass\n",
        "    n=n+1\n",
        "print(allot)"
      ]
    },
    {
      "cell_type": "code",
      "execution_count": null,
      "metadata": {
        "id": "nZDc51cG8MVr"
      },
      "outputs": [],
      "source": [
        "final = []\n",
        "for i in range(0,len(dataset1)):\n",
        "  final.append([allot[i][0],dataset1[i][1],allot[i][1],sor[i][0][1]])\n",
        "print(final)"
      ]
    },
    {
      "cell_type": "code",
      "execution_count": null,
      "metadata": {
        "id": "PlSLxZHvBJB5"
      },
      "outputs": [],
      "source": [
        "import csv\n",
        "\n",
        "# open the file in the write mode\n",
        "f = open('record1.csv', 'a')\n",
        "\n",
        "# create the csv writer\n",
        "writer = csv.writer(f)\n",
        "writer.writerow(['ID','Student address','Alloted Centre','Distance'])\n",
        "# write a row to the csv file\n",
        "for i in final:\n",
        "  writer.writerow(i)\n",
        "\n",
        "# close the file\n",
        "f.close()"
      ]
    }
  ],
  "metadata": {
    "colab": {
      "collapsed_sections": [],
      "name": "Exam center allotment system.ipynb",
      "provenance": []
    },
    "kernelspec": {
      "display_name": "Python 3",
      "name": "python3"
    },
    "language_info": {
      "name": "python"
    }
  },
  "nbformat": 4,
  "nbformat_minor": 0
}
